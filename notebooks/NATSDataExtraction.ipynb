{
 "cells": [
  {
   "cell_type": "code",
   "execution_count": 1,
   "id": "608ed72d",
   "metadata": {},
   "outputs": [
    {
     "name": "stdout",
     "output_type": "stream",
     "text": [
      "✅ Loaded 897 runs\n",
      "❌ Missing 3 runs\n",
      "('ImageNet16-120', 'StablePBGI1e-3', 22)\n",
      "('ImageNet16-120', 'StablePBGI1e-4', 22)\n",
      "('ImageNet16-120', 'StablePBGI1e-5', 22)\n"
     ]
    }
   ],
   "source": [
    "import os\n",
    "import json\n",
    "import itertools\n",
    "\n",
    "# Define expected set\n",
    "datasets = ['cifar10-valid', 'cifar100', 'ImageNet16-120']\n",
    "acqs = ['StablePBGI1e-3', 'StablePBGI1e-4', 'StablePBGI1e-5', 'LogEIC', 'LCB', 'TS']\n",
    "seeds = range(50)\n",
    "expected_keys = set((d, a, s) for d, a, s in itertools.product(datasets, acqs, seeds))\n",
    "\n",
    "results_dir = \"../scripts/NATS_results\"\n",
    "all_data = {}\n",
    "loaded_keys = set()\n",
    "\n",
    "for fname in os.listdir(results_dir):\n",
    "    if not fname.endswith(\".jsonl\"):\n",
    "        continue\n",
    "\n",
    "    parts = fname.replace('.jsonl', '').split('_')\n",
    "    dataset = parts[0]\n",
    "    seed = int(parts[1].replace('seed', ''))\n",
    "    acq = parts[2]\n",
    "    key = (dataset, acq, seed)\n",
    "\n",
    "    with open(os.path.join(results_dir, fname), 'r') as f:\n",
    "        logs = json.load(f)  # not line-by-line anymore!\n",
    "\n",
    "    all_data[key] = logs\n",
    "    loaded_keys.add(key)\n",
    "\n",
    "missing_keys = expected_keys - loaded_keys\n",
    "\n",
    "print(f\"✅ Loaded {len(loaded_keys)} runs\")\n",
    "print(f\"❌ Missing {len(missing_keys)} runs\")\n",
    "for k in sorted(list(missing_keys))[:10]:  # just show a few\n",
    "    print(k)"
   ]
  },
  {
   "cell_type": "code",
   "execution_count": null,
   "id": "c4da1645",
   "metadata": {},
   "outputs": [
    {
     "name": "stdout",
     "output_type": "stream",
     "text": [
      "✅ Found 3 missing configs. Written to ../scripts/missing.txt\n"
     ]
    }
   ],
   "source": [
    "import os\n",
    "import json\n",
    "\n",
    "config_dir = \"../scripts/NATS_configs\"\n",
    "result_dir = \"../scripts/NATS_results\"\n",
    "output_file = \"../scripts/missing.txt\"\n",
    "\n",
    "def normalize_acq(acq):\n",
    "    \"\"\"Normalize acquisition function to match .jsonl filename format.\"\"\"\n",
    "    return acq.replace(\"(\", \"\").replace(\")\", \"\").replace(\" \", \"\")\n",
    "\n",
    "# Collect actual result filenames (without extension)\n",
    "result_files = set(\n",
    "    f for f in os.listdir(result_dir) if f.endswith(\".jsonl\")\n",
    ")\n",
    "\n",
    "missing_configs = []\n",
    "\n",
    "for fname in os.listdir(config_dir):\n",
    "    if not fname.startswith(\"config_\") or not fname.endswith(\".json\"):\n",
    "        continue\n",
    "\n",
    "    config_path = os.path.join(config_dir, fname)\n",
    "\n",
    "    try:\n",
    "        with open(config_path, 'r') as f:\n",
    "            config = json.load(f)\n",
    "    except Exception as e:\n",
    "        print(f\"⚠️ Skipping {fname} due to error: {e}\")\n",
    "        continue\n",
    "\n",
    "    dataset = config[\"dataset_name\"]\n",
    "    seed = config[\"seed\"]\n",
    "    acq = normalize_acq(config[\"acquisition_function\"])\n",
    "    \n",
    "    expected_result_name = f\"{dataset}_seed{seed}_{acq}.jsonl\"\n",
    "\n",
    "    if expected_result_name not in result_files:\n",
    "        missing_configs.append(config_path)\n",
    "\n",
    "# Write missing list\n",
    "with open(output_file, \"w\") as f:\n",
    "    for config_path in sorted(missing_configs):\n",
    "        f.write(config_path + \"\\n\")\n",
    "\n",
    "print(f\"✅ Found {len(missing_configs)} missing configs. Written to {output_file}\")"
   ]
  }
 ],
 "metadata": {
  "kernelspec": {
   "display_name": "automl_env",
   "language": "python",
   "name": "python3"
  },
  "language_info": {
   "codemirror_mode": {
    "name": "ipython",
    "version": 3
   },
   "file_extension": ".py",
   "mimetype": "text/x-python",
   "name": "python",
   "nbconvert_exporter": "python",
   "pygments_lexer": "ipython3",
   "version": "3.9.21"
  }
 },
 "nbformat": 4,
 "nbformat_minor": 5
}
