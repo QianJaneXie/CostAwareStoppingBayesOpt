{
 "cells": [
  {
   "cell_type": "code",
   "execution_count": 4,
   "metadata": {},
   "outputs": [],
   "source": [
    "import wandb\n",
    "from tqdm import tqdm\n",
    "import numpy as np\n",
    "\n",
    "api = wandb.Api()\n",
    "\n",
    "def load_lcbench_varying_cost_runs(data, acq):\n",
    "    runs = api.runs(path=\"ziv-scully-group/StoppingBayesOptEmpirical\", filters={\n",
    "        \"sweep\": \"0ajk7zy5\",\n",
    "        \"config.dataset_name\": data,\n",
    "        \"config.acquisition_function\": acq},\n",
    "        )\n",
    "    \n",
    "    configs_and_metrics = []\n",
    "    for run in tqdm(runs):\n",
    "        metric_keys = [\"config id\", \"cumulative cost\", \"estimated cumulative cost\", \"current best id\", \"current best observed\", \"StablePBGI(1e-3) acq\", \"StablePBGI(1e-4) acq\", \"StablePBGI(1e-5) acq\", \"LogEIC-inv acq\", \"LogEIC-exp acq\", \"regret upper bound\", \"exp min regret gap\", \"PRB\"]\n",
    "        history = list(run.scan_history(keys = metric_keys, page_size=1_000_000_000))\n",
    "        metrics = {k: [d[k] for d in history] for k in metric_keys}\n",
    "        configs_and_metrics.append((run.config, metrics))\n",
    "\n",
    "    return configs_and_metrics"
   ]
  },
  {
   "cell_type": "code",
   "execution_count": 5,
   "metadata": {},
   "outputs": [],
   "source": [
    "dataset_names = ['Fashion-MNIST', 'adult', 'higgs', 'volkert']\n",
    "acquisition_functions = {\n",
    "        \"LogEIC-inv\": \"LogEIC-inv\",\n",
    "        \"LogEIC-exp\": \"LogEIC-exp\",\n",
    "        \"StablePBGI(1e-3)\": \"PBGI(1e-3)\",\n",
    "        \"StablePBGI(1e-4)\": \"PBGI(1e-4)\", \n",
    "        \"StablePBGI(1e-5)\": \"PBGI(1e-5)\", \n",
    "        \"LCB\": \"LCB\",\n",
    "        \"TS\": \"TS\"\n",
    "    }"
   ]
  },
  {
   "cell_type": "code",
   "execution_count": null,
   "metadata": {},
   "outputs": [],
   "source": [
    "grouped_runs = {(d, a): load_lcbench_varying_cost_runs(d, a) for d in dataset_names for a in acquisition_functions}"
   ]
  },
  {
   "cell_type": "code",
   "execution_count": null,
   "metadata": {},
   "outputs": [],
   "source": [
    "from collections import defaultdict\n",
    "import numpy as np\n",
    "\n",
    "# Create a single nested defaultdict for all metrics\n",
    "metrics_per_acq = defaultdict(lambda: defaultdict(dict))\n",
    "\n",
    "for d in dataset_names:\n",
    "    for a in acquisition_functions.keys():\n",
    "        config_and_metrics_per_seed = grouped_runs[(d, a)]\n",
    "\n",
    "        # Extract metrics along with the seeds for sorting\n",
    "        seeds_and_metrics = [\n",
    "            (\n",
    "                config['seed'],\n",
    "                m['cumulative cost'],\n",
    "                m['estimated cumulative cost'],\n",
    "                m['config id'],\n",
    "                m['current best id'],\n",
    "                m['current best observed'],\n",
    "                m['StablePBGI(1e-3) acq'],\n",
    "                m['StablePBGI(1e-4) acq'],\n",
    "                m['StablePBGI(1e-5) acq'],\n",
    "                m['LogEIC-inv acq'],\n",
    "                m['LogEIC-exp acq'],\n",
    "                m['exp min regret gap'],\n",
    "                m['regret upper bound'],\n",
    "                m['PRB']\n",
    "            )\n",
    "            for config, m in config_and_metrics_per_seed\n",
    "            if len(m['current best observed']) > 0\n",
    "        ]\n",
    "\n",
    "        # Sort by seed\n",
    "        seeds_and_metrics.sort(key=lambda x: x[0])\n",
    "\n",
    "        # Extract sorted metrics\n",
    "        metric_keys = [\n",
    "            \"cumulative cost\",\n",
    "            'estimated cumulative cost',\n",
    "            \"config id\",\n",
    "            \"current best id\",\n",
    "            \"current best observed\",\n",
    "            \"PBGI(1e-3) acq\",\n",
    "            \"PBGI(1e-4) acq\",\n",
    "            \"PBGI(1e-5) acq\",\n",
    "            \"LogEIC-inv acq\",\n",
    "            \"LogEIC-exp acq\",\n",
    "            \"exp min regret gap\",\n",
    "            \"regret upper bound\",\n",
    "            \"PRB\"\n",
    "        ]\n",
    "\n",
    "        arrays = [\n",
    "            np.array([item[i + 1] for item in seeds_and_metrics], dtype=int if \"id\" in key else float)\n",
    "            for i, key in enumerate(metric_keys)\n",
    "        ]\n",
    "\n",
    "        print(d, a, arrays[1].shape)  # config_id is arrays[1]\n",
    "\n",
    "        for key, array in zip(metric_keys, arrays):\n",
    "            metrics_per_acq[d][acquisition_functions[a]][key] = array"
   ]
  },
  {
   "cell_type": "code",
   "execution_count": null,
   "metadata": {},
   "outputs": [],
   "source": [
    "import pickle\n",
    "import os\n",
    "\n",
    "# Save processed metrics to disk\n",
    "save_path = \"lcbench_unknown_cost_metrics_per_acq.pkl\"\n",
    "with open(save_path, \"wb\") as f:\n",
    "    pickle.dump(metrics_per_acq, f)\n",
    "print(f\"Saved lcbench_unknown_cost_metrics_per_acq to {save_path}\")"
   ]
  },
  {
   "cell_type": "code",
   "execution_count": null,
   "metadata": {},
   "outputs": [],
   "source": [
    "import pickle\n",
    "import os\n",
    "\n",
    "save_path = \"lcbench_unknown_cost_metrics_per_acq.pkl\"\n",
    "\n",
    "if os.path.exists(save_path):\n",
    "    with open(save_path, \"rb\") as f:\n",
    "        metrics_per_acq = pickle.load(f)\n",
    "    print(f\"Loaded lcbench_unknown_cost_metrics_per_acq from {save_path}\")\n",
    "    skip_download = True\n",
    "else:\n",
    "    skip_download = False"
   ]
  }
 ],
 "metadata": {
  "kernelspec": {
   "display_name": "automl_env",
   "language": "python",
   "name": "python3"
  },
  "language_info": {
   "codemirror_mode": {
    "name": "ipython",
    "version": 3
   },
   "file_extension": ".py",
   "mimetype": "text/x-python",
   "name": "python",
   "nbconvert_exporter": "python",
   "pygments_lexer": "ipython3",
   "version": "3.9.21"
  }
 },
 "nbformat": 4,
 "nbformat_minor": 2
}
