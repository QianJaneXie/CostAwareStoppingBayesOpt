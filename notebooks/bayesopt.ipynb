{
 "cells": [
  {
   "cell_type": "code",
   "execution_count": 1,
   "metadata": {},
   "outputs": [],
   "source": [
    "%%capture\n",
    "from pprint import pprint"
   ]
  },
  {
   "cell_type": "code",
   "execution_count": null,
   "metadata": {},
   "outputs": [
    {
     "name": "stdout",
     "output_type": "stream",
     "text": [
      "==> Loading data...\n",
      "==> No cached data found or cache set to False.\n",
      "==> Reading json data...\n",
      "==> Done.\n"
     ]
    }
   ],
   "source": [
    "from LCBench.api import Benchmark\n",
    "import os\n",
    "\n",
    "os.makedirs(\"LCBench/cached\", exist_ok=True)\n",
    "bench_dir = \"LCBench/cached/six_datasets_lw.json\"\n",
    "bench = Benchmark(bench_dir, cache=False)"
   ]
  },
  {
   "cell_type": "code",
   "execution_count": 3,
   "metadata": {},
   "outputs": [],
   "source": [
    "import torch\n",
    "\n",
    "# use a GPU if available\n",
    "torch.device(\"cuda\" if torch.cuda.is_available() else \"cpu\")\n",
    "\n",
    "# Set default tensor type to float64\n",
    "torch.set_default_dtype(torch.float64)"
   ]
  },
  {
   "cell_type": "code",
   "execution_count": 4,
   "metadata": {},
   "outputs": [],
   "source": [
    "def normalize_config(config):\n",
    "    # Convert each value to a torch tensor (ensuring float type for calculations)\n",
    "    batch = torch.tensor(config[\"batch_size\"])\n",
    "    lr = torch.tensor(config[\"learning_rate\"])\n",
    "    units = torch.tensor(config[\"max_units\"])\n",
    "    momentum = torch.tensor(config[\"momentum\"])\n",
    "    weight_decay = torch.tensor(config[\"weight_decay\"])\n",
    "    layers = torch.tensor(float(config[\"num_layers\"]))\n",
    "    dropout = torch.tensor(config[\"max_dropout\"])\n",
    "    \n",
    "    # For log-scaled parameters: batch size, learning rate, and max units.\n",
    "    batch_norm = (torch.log(batch) - torch.log(torch.tensor(16.0))) / (torch.log(torch.tensor(512.0)) - torch.log(torch.tensor(16.0)))\n",
    "    lr_norm = (torch.log(lr) - torch.log(torch.tensor(1e-4))) / (torch.log(torch.tensor(1e-1)) - torch.log(torch.tensor(1e-4)))\n",
    "    units_norm = (torch.log(units) - torch.log(torch.tensor(64.0))) / (torch.log(torch.tensor(1024.0)) - torch.log(torch.tensor(64.0)))\n",
    "    \n",
    "    # For linearly scaled parameters.\n",
    "    momentum_norm = (momentum - 0.1) / (0.99 - 0.1)\n",
    "    weight_decay_norm = (weight_decay - 1e-5) / (1e-1 - 1e-5)\n",
    "    layers_norm = (layers - 1) / (4 - 1)\n",
    "    \n",
    "    # Dropout is already between 0 and 1.\n",
    "    dropout_norm = dropout\n",
    "\n",
    "    # Combine into a 7-dimensional tensor.\n",
    "    normalized_vector = torch.stack([\n",
    "        batch_norm, \n",
    "        lr_norm, \n",
    "        momentum_norm, \n",
    "        weight_decay_norm, \n",
    "        layers_norm, \n",
    "        units_norm, \n",
    "        dropout_norm\n",
    "    ])\n",
    "    \n",
    "    return normalized_vector"
   ]
  },
  {
   "cell_type": "code",
   "execution_count": 5,
   "metadata": {},
   "outputs": [],
   "source": [
    "all_x = []\n",
    "all_y = []\n",
    "all_c = []\n",
    "dataset_name = \"higgs\"\n",
    "for config_id in bench.data[dataset_name].keys():\n",
    "    config = bench.query(dataset_name, \"config\", config_id)\n",
    "    all_x.append(normalize_config(config))\n",
    "    val_ce = bench.query(dataset_name, \"final_val_cross_entropy\", config_id)\n",
    "    all_y.append(val_ce)\n",
    "    runtime = bench.query(dataset_name, \"time\", config_id)[-1]\n",
    "    all_c.append(runtime)\n",
    "\n",
    "all_x = torch.stack(all_x)\n",
    "all_y = torch.tensor(all_y).unsqueeze(1)\n",
    "all_c = torch.tensor(all_c).unsqueeze(1)"
   ]
  },
  {
   "cell_type": "code",
   "execution_count": 6,
   "metadata": {},
   "outputs": [
    {
     "data": {
      "text/plain": [
       "(tensor([[0.4299, 0.4204, 0.1272,  ..., 0.6667, 0.5487, 0.0259],\n",
       "         [0.9672, 0.6977, 0.0720,  ..., 1.0000, 0.9729, 0.5472],\n",
       "         [0.8919, 0.1077, 0.3272,  ..., 0.0000, 0.8208, 0.3320],\n",
       "         ...,\n",
       "         [0.6750, 0.8598, 0.4454,  ..., 0.6667, 0.4707, 0.3635],\n",
       "         [0.9691, 0.3290, 0.0093,  ..., 0.3333, 0.8684, 0.0437],\n",
       "         [0.3666, 0.9906, 0.2041,  ..., 1.0000, 0.6681, 0.4045]]),\n",
       " tensor([[0.6380],\n",
       "         [0.6931],\n",
       "         [0.7014],\n",
       "         ...,\n",
       "         [0.6090],\n",
       "         [0.6511],\n",
       "         [0.6931]]),\n",
       " tensor([[215.9746],\n",
       "         [876.6520],\n",
       "         [126.5395],\n",
       "         ...,\n",
       "         [186.1553],\n",
       "         [165.5783],\n",
       "         [877.6618]]))"
      ]
     },
     "execution_count": 6,
     "metadata": {},
     "output_type": "execute_result"
    }
   ],
   "source": [
    "all_x, all_y, all_c"
   ]
  },
  {
   "cell_type": "code",
   "execution_count": 7,
   "metadata": {},
   "outputs": [],
   "source": [
    "from pandora_automl.utils import fit_gp_model"
   ]
  },
  {
   "cell_type": "code",
   "execution_count": 8,
   "metadata": {},
   "outputs": [],
   "source": [
    "from botorch.acquisition import LogExpectedImprovement"
   ]
  },
  {
   "cell_type": "code",
   "execution_count": 9,
   "metadata": {},
   "outputs": [
    {
     "name": "stdout",
     "output_type": "stream",
     "text": [
      "  Initial config_id: 1542\n"
     ]
    },
    {
     "name": "stderr",
     "output_type": "stream",
     "text": [
      "/Users/qianxie/Desktop/Curriculum/Graduate/Research/PandoraAutoML/automl_env/lib/python3.9/site-packages/botorch/models/transforms/outcome.py:304: UserWarning: std(): degrees of freedom is <= 0. Correction should be strictly less than the reduction factor (input numel divided by output numel). (Triggered internally at /Users/runner/work/pytorch/pytorch/pytorch/aten/src/ATen/native/ReduceOps.cpp:1831.)\n",
      "  stdvs = Y.std(dim=-2, keepdim=True)\n",
      "/Users/qianxie/Desktop/Curriculum/Graduate/Research/PandoraAutoML/automl_env/lib/python3.9/site-packages/botorch/models/utils/assorted.py:194: UserWarning: std(): degrees of freedom is <= 0. Correction should be strictly less than the reduction factor (input numel divided by output numel). (Triggered internally at /Users/runner/work/pytorch/pytorch/pytorch/aten/src/ATen/native/ReduceOps.cpp:1831.)\n",
      "  Ymean, Ystd = torch.mean(Y, dim=-2), torch.std(Y, dim=-2)\n"
     ]
    },
    {
     "name": "stdout",
     "output_type": "stream",
     "text": [
      "Iteration 1:\n",
      "  Selected config_id: 1\n",
      "  Acquisition (LogEI): -0.3169\n",
      "  Objective (final_val_cross_entropy): 0.6931\n",
      "  Current best observed: 0.6422\n",
      "\n",
      "Iteration 2:\n",
      "  Selected config_id: 1761\n",
      "  Acquisition (LogEI): -4.5126\n",
      "  Objective (final_val_cross_entropy): 0.6420\n",
      "  Current best observed: 0.6420\n",
      "\n",
      "Iteration 3:\n",
      "  Selected config_id: 504\n",
      "  Acquisition (LogEI): -4.8528\n",
      "  Objective (final_val_cross_entropy): 0.6455\n",
      "  Current best observed: 0.6420\n",
      "\n"
     ]
    }
   ],
   "source": [
    "n_iter = 3\n",
    "maximize = False  # We want to minimize final_val_cross_entropy\n",
    "\n",
    "torch.manual_seed(42)\n",
    "init_config_id = torch.randint(low=0, high=2000, size=(1,)).item()\n",
    "print(f\"  Initial config_id: {init_config_id}\")\n",
    "config_id_history = [init_config_id]\n",
    "x = all_x[init_config_id].unsqueeze(0)\n",
    "y = all_y[init_config_id].unsqueeze(0)\n",
    "\n",
    "for iteration in range(n_iter):\n",
    "    # 1. Fit a GP model on the current data.\n",
    "    model = fit_gp_model(x, y, output_standardize=True)\n",
    "    \n",
    "    # 2. Determine the best observed objective value.\n",
    "    best_f = y.min()\n",
    "    \n",
    "    # 3. Define the acquisition function.\n",
    "    LogEI = LogExpectedImprovement(model=model, best_f=best_f, maximize=maximize)\n",
    "    \n",
    "    # 4. Evaluate the acquisition function on all candidate x's.\n",
    "    # The unsqueeze operations add extra dimensions if required by your model.\n",
    "    acq = LogEI.forward(all_x.unsqueeze(1))\n",
    "    \n",
    "    # 5. Select the candidate with the highest acquisition value.\n",
    "    new_config_id = torch.argmax(acq)\n",
    "    config_id_history.append(new_config_id.item())\n",
    "    new_config_x = all_x[new_config_id]\n",
    "    new_config_LogEI = torch.max(acq)\n",
    "    \n",
    "    # 6. Query the objective for the new configuration.\n",
    "    new_config_y = all_y[new_config_id]\n",
    "    \n",
    "    # 7. Append the new data to our training set.\n",
    "    x = torch.cat([x, new_config_x.unsqueeze(0)], dim=0)\n",
    "    y = torch.cat([y, new_config_y.unsqueeze(0)], dim=0)\n",
    "    \n",
    "    print(f\"Iteration {iteration + 1}:\")\n",
    "    print(f\"  Selected config_id: {new_config_id}\")\n",
    "    print(f\"  Acquisition (LogEI): {new_config_LogEI.item():.4f}\")\n",
    "    print(f\"  Objective (final_val_cross_entropy): {new_config_y.item():.4f}\")\n",
    "    print(f\"  Current best observed: {y.min().item():.4f}\")\n",
    "    print()"
   ]
  },
  {
   "cell_type": "code",
   "execution_count": 10,
   "metadata": {},
   "outputs": [],
   "source": [
    "from pandora_automl.acquisition.gittins import GittinsIndex"
   ]
  },
  {
   "cell_type": "code",
   "execution_count": 11,
   "metadata": {},
   "outputs": [
    {
     "name": "stdout",
     "output_type": "stream",
     "text": [
      "  Initial config_id: 1542\n",
      "Iteration 1:\n",
      "  Selected config_id: 1\n",
      "  Acquisition (GI): -4.0382\n",
      "  Objective (final_val_cross_entropy): 0.6931\n",
      "  Current best observed: 0.6422\n",
      "\n",
      "Iteration 2:\n",
      "  Selected config_id: 1761\n",
      "  Acquisition (GI): 0.6076\n",
      "  Objective (final_val_cross_entropy): 0.6420\n",
      "  Current best observed: 0.6420\n",
      "\n",
      "Iteration 3:\n",
      "  Selected config_id: 1981\n",
      "  Acquisition (GI): 0.6248\n",
      "  Objective (final_val_cross_entropy): 0.6419\n",
      "  Current best observed: 0.6419\n",
      "\n"
     ]
    },
    {
     "name": "stderr",
     "output_type": "stream",
     "text": [
      "/Users/qianxie/Desktop/Curriculum/Graduate/Research/PandoraAutoML/automl_env/lib/python3.9/site-packages/botorch/models/transforms/outcome.py:304: UserWarning: std(): degrees of freedom is <= 0. Correction should be strictly less than the reduction factor (input numel divided by output numel). (Triggered internally at /Users/runner/work/pytorch/pytorch/pytorch/aten/src/ATen/native/ReduceOps.cpp:1831.)\n",
      "  stdvs = Y.std(dim=-2, keepdim=True)\n",
      "/Users/qianxie/Desktop/Curriculum/Graduate/Research/PandoraAutoML/automl_env/lib/python3.9/site-packages/botorch/models/utils/assorted.py:194: UserWarning: std(): degrees of freedom is <= 0. Correction should be strictly less than the reduction factor (input numel divided by output numel). (Triggered internally at /Users/runner/work/pytorch/pytorch/pytorch/aten/src/ATen/native/ReduceOps.cpp:1831.)\n",
      "  Ymean, Ystd = torch.mean(Y, dim=-2), torch.std(Y, dim=-2)\n"
     ]
    }
   ],
   "source": [
    "n_iter = 3\n",
    "maximize = False  # We want to minimize final_val_cross_entropy\n",
    "lmbda = 0.003\n",
    "\n",
    "torch.manual_seed(42)\n",
    "init_config_id = torch.randint(low=0, high=2000, size=(1,)).item()\n",
    "print(f\"  Initial config_id: {init_config_id}\")\n",
    "config_id_history = [init_config_id]\n",
    "x = all_x[init_config_id].unsqueeze(0)\n",
    "y = all_y[init_config_id].unsqueeze(0)\n",
    "acq_history = []\n",
    "\n",
    "for iteration in range(n_iter):\n",
    "    # 1. Fit a GP model on the current data.\n",
    "    model = fit_gp_model(x, y, output_standardize=True)\n",
    "    \n",
    "    # 3. Define the acquisition function.\n",
    "    PBGI = GittinsIndex(model=model, maximize=maximize, lmbda=lmbda)\n",
    "    \n",
    "    # 4. Evaluate the acquisition function on all candidate x's.\n",
    "    # The unsqueeze operations add extra dimensions if required by your model.\n",
    "    acq = PBGI.forward(all_x.unsqueeze(1))\n",
    "    \n",
    "    # 5. Select the candidate with the lowest acquisition value.\n",
    "    new_config_id = torch.argmin(acq)\n",
    "    new_config_x = all_x[new_config_id]\n",
    "    new_config_GI = torch.min(acq)\n",
    "    \n",
    "    # 6. Query the objective for the new configuration.\n",
    "    new_config_y = all_y[new_config_id]\n",
    "    \n",
    "    # 7. Append the new data to our training set.\n",
    "    x = torch.cat([x, new_config_x.unsqueeze(0)], dim=0)\n",
    "    y = torch.cat([y, new_config_y.unsqueeze(0)], dim=0)\n",
    "    config_id_history.append(new_config_id.item())\n",
    "    acq_history.append(new_config_GI.item())\n",
    "    \n",
    "    print(f\"Iteration {iteration + 1}:\")\n",
    "    print(f\"  Selected config_id: {new_config_id}\")\n",
    "    print(f\"  Acquisition (GI): {new_config_GI.item():.4f}\")\n",
    "    print(f\"  Objective (final_val_cross_entropy): {new_config_y.item():.4f}\")\n",
    "    print(f\"  Current best observed: {y.min().item():.4f}\")\n",
    "    print()"
   ]
  },
  {
   "cell_type": "code",
   "execution_count": 18,
   "metadata": {},
   "outputs": [],
   "source": [
    "from botorch.acquisition import UpperConfidenceBound\n",
    "from pandora_automl.acquisition.lcb import LowerConfidenceBound"
   ]
  },
  {
   "cell_type": "code",
   "execution_count": 20,
   "metadata": {},
   "outputs": [
    {
     "name": "stdout",
     "output_type": "stream",
     "text": [
      "  Initial config_id: 1542\n",
      "Iteration 1:\n",
      "  Selected config_id: 1\n",
      "  Acquisition (LCB): -3.1579\n",
      "  Regret Upper Bound: 2.5294\n",
      "  Objective (final_val_cross_entropy): 0.6931\n",
      "\n",
      "Iteration 2:\n",
      "  Selected config_id: 131\n",
      "  Acquisition (LCB): -0.7480\n",
      "  Regret Upper Bound: 0.0554\n",
      "  Objective (final_val_cross_entropy): 0.6921\n",
      "\n",
      "Iteration 3:\n",
      "  Selected config_id: 996\n",
      "  Acquisition (LCB): -0.7325\n",
      "  Regret Upper Bound: 0.0399\n",
      "  Objective (final_val_cross_entropy): 0.6931\n",
      "\n"
     ]
    },
    {
     "name": "stderr",
     "output_type": "stream",
     "text": [
      "/Users/qianxie/Desktop/Curriculum/Graduate/Research/PandoraAutoML/automl_env/lib/python3.9/site-packages/botorch/models/transforms/outcome.py:304: UserWarning: std(): degrees of freedom is <= 0. Correction should be strictly less than the reduction factor (input numel divided by output numel). (Triggered internally at /Users/runner/work/pytorch/pytorch/pytorch/aten/src/ATen/native/ReduceOps.cpp:1831.)\n",
      "  stdvs = Y.std(dim=-2, keepdim=True)\n",
      "/Users/qianxie/Desktop/Curriculum/Graduate/Research/PandoraAutoML/automl_env/lib/python3.9/site-packages/botorch/models/utils/assorted.py:194: UserWarning: std(): degrees of freedom is <= 0. Correction should be strictly less than the reduction factor (input numel divided by output numel). (Triggered internally at /Users/runner/work/pytorch/pytorch/pytorch/aten/src/ATen/native/ReduceOps.cpp:1831.)\n",
      "  Ymean, Ystd = torch.mean(Y, dim=-2), torch.std(Y, dim=-2)\n"
     ]
    }
   ],
   "source": [
    "import numpy as np\n",
    "import math\n",
    "n_iter = 3\n",
    "dim = 7\n",
    "maximize = False  # We want to minimize final_val_cross_entropy\n",
    "\n",
    "torch.manual_seed(42)\n",
    "init_config_id = torch.randint(low=0, high=2000, size=(1,)).item()\n",
    "print(f\"  Initial config_id: {init_config_id}\")\n",
    "config_id_history = [init_config_id]\n",
    "x = all_x[init_config_id].unsqueeze(0)\n",
    "y = all_y[init_config_id].unsqueeze(0)\n",
    "\n",
    "for iteration in range(n_iter):\n",
    "    # 1. Fit a GP model on the current data.\n",
    "    model = fit_gp_model(x, y, output_standardize=True)\n",
    "    \n",
    "    # 3. Define the acquisition function.\n",
    "    LCB = LowerConfidenceBound(model=model, maximize=maximize, beta=2 * np.log(dim * ((iteration + 1) ** 2) * (math.pi ** 2) / (6 * 0.1)) / 5)\n",
    "    \n",
    "    # 4. Evaluate the acquisition function on all candidate x's.\n",
    "    # The unsqueeze operations add extra dimensions if required by your model.\n",
    "    acq = LCB.forward(all_x.unsqueeze(1))\n",
    "    \n",
    "    # 5. Select the candidate with the lowest acquisition value.\n",
    "    new_config_id = torch.argmin(acq)\n",
    "    config_id_history.append(new_config_id.item())\n",
    "    new_config_x = all_x[new_config_id]\n",
    "    new_config_LCB = torch.min(acq)\n",
    "\n",
    "    UCB = UpperConfidenceBound(model=model, maximize=maximize, beta=2 * np.log(dim * ((iteration + 1) ** 2) * (math.pi ** 2) / (6 * 0.1)) / 5)\n",
    "    min_UCB = torch.min(UCB.forward(all_x.unsqueeze(1)))\n",
    "    regret_upper_bound = min_UCB - new_config_LCB\n",
    "    \n",
    "    # 6. Query the objective for the new configuration.\n",
    "    new_config_y = all_y[new_config_id]\n",
    "    \n",
    "    # 7. Append the new data to our training set.\n",
    "    x = torch.cat([x, new_config_x.unsqueeze(0)], dim=0)\n",
    "    y = torch.cat([y, new_config_y.unsqueeze(0)], dim=0)\n",
    "    \n",
    "    print(f\"Iteration {iteration + 1}:\")\n",
    "    print(f\"  Selected config_id: {new_config_id}\")\n",
    "    print(f\"  Acquisition (LCB): {new_config_LCB.item():.4f}\")\n",
    "    print(f\"  Regret Upper Bound: {regret_upper_bound.item():.4f}\")\n",
    "    print(f\"  Objective (final_val_cross_entropy): {new_config_y.item():.4f}\")\n",
    "    print()"
   ]
  },
  {
   "cell_type": "code",
   "execution_count": 14,
   "metadata": {},
   "outputs": [],
   "source": [
    "from pandora_automl.acquisition.log_ei_puc import LogExpectedImprovementWithCost"
   ]
  },
  {
   "cell_type": "code",
   "execution_count": 15,
   "metadata": {},
   "outputs": [
    {
     "name": "stdout",
     "output_type": "stream",
     "text": [
      "  Initial config_id: 1542\n",
      "Iteration 1:\n",
      "  Selected config_id: 1\n",
      "  Acquisition (LogEIC): -3.818207\n",
      "  Objective (final_val_cross_entropy): 0.693145\n",
      "  Cost (final_val_cross_entropy): 876.651991\n",
      "  Current best observed: 0.642218\n",
      "\n",
      "Iteration 2:\n",
      "  Selected config_id: 1761\n",
      "  Acquisition (LogEIC): -9.168875\n",
      "  Objective (final_val_cross_entropy): 0.641996\n",
      "  Cost (final_val_cross_entropy): 251.388938\n",
      "  Current best observed: 0.641996\n",
      "\n",
      "Iteration 3:\n",
      "  Selected config_id: 504\n",
      "  Acquisition (LogEIC): -10.126739\n",
      "  Objective (final_val_cross_entropy): 0.645500\n",
      "  Cost (final_val_cross_entropy): 199.601905\n",
      "  Current best observed: 0.641996\n",
      "\n"
     ]
    },
    {
     "name": "stderr",
     "output_type": "stream",
     "text": [
      "/Users/qianxie/Desktop/Curriculum/Graduate/Research/PandoraAutoML/automl_env/lib/python3.9/site-packages/botorch/models/transforms/outcome.py:304: UserWarning: std(): degrees of freedom is <= 0. Correction should be strictly less than the reduction factor (input numel divided by output numel). (Triggered internally at /Users/runner/work/pytorch/pytorch/pytorch/aten/src/ATen/native/ReduceOps.cpp:1831.)\n",
      "  stdvs = Y.std(dim=-2, keepdim=True)\n",
      "/Users/qianxie/Desktop/Curriculum/Graduate/Research/PandoraAutoML/automl_env/lib/python3.9/site-packages/botorch/models/utils/assorted.py:194: UserWarning: std(): degrees of freedom is <= 0. Correction should be strictly less than the reduction factor (input numel divided by output numel). (Triggered internally at /Users/runner/work/pytorch/pytorch/pytorch/aten/src/ATen/native/ReduceOps.cpp:1831.)\n",
      "  Ymean, Ystd = torch.mean(Y, dim=-2), torch.std(Y, dim=-2)\n"
     ]
    }
   ],
   "source": [
    "n_iter = 3\n",
    "maximize = False  # We want to minimize final_val_cross_entropy\n",
    "\n",
    "torch.manual_seed(42)\n",
    "init_config_id = torch.randint(low=0, high=2000, size=(1,)).item()\n",
    "print(f\"  Initial config_id: {init_config_id}\")\n",
    "config_id_history = [init_config_id]\n",
    "x = all_x[init_config_id].unsqueeze(0)\n",
    "y = all_y[init_config_id].unsqueeze(0)\n",
    "c = all_c[init_config_id].unsqueeze(0)\n",
    "\n",
    "for iteration in range(n_iter):\n",
    "    # 1. Fit a GP model on the current data.\n",
    "    model = fit_gp_model(X=x, objective_X=y, cost_X=c, unknown_cost=True, output_standardize=True)\n",
    "    \n",
    "    # 2. Determine the best observed objective value.\n",
    "    best_f = y.min()\n",
    "    \n",
    "    # 3. Define the acquisition function.\n",
    "    LogEIC = LogExpectedImprovementWithCost(model=model, best_f=best_f, maximize=maximize, unknown_cost=True)\n",
    "    \n",
    "    # 4. Evaluate the acquisition function on all candidate x's.\n",
    "    # The unsqueeze operations add extra dimensions if required by your model.\n",
    "    acq = LogEIC.forward(all_x.unsqueeze(1))\n",
    "    \n",
    "    # 5. Select the candidate with the highest acquisition value.\n",
    "    new_config_id = torch.argmax(acq)\n",
    "    config_id_history.append(new_config_id.item())\n",
    "    new_config_x = all_x[new_config_id]\n",
    "    new_config_LogEIC = torch.max(acq)\n",
    "    \n",
    "    # 6. Query the objective for the new configuration.\n",
    "    new_config_y = all_y[new_config_id]\n",
    "    new_config_c = all_c[new_config_id]\n",
    "    \n",
    "    # 7. Append the new data to our training set.\n",
    "    x = torch.cat([x, new_config_x.unsqueeze(0)], dim=0)\n",
    "    y = torch.cat([y, new_config_y.unsqueeze(0)], dim=0)\n",
    "    c = torch.cat([c, new_config_c.unsqueeze(0)], dim=0)\n",
    "    \n",
    "    print(f\"Iteration {iteration + 1}:\")\n",
    "    print(f\"  Selected config_id: {new_config_id}\")\n",
    "    print(f\"  Acquisition (LogEIC): {new_config_LogEIC.item():.6f}\")\n",
    "    print(f\"  Objective (final_val_cross_entropy): {new_config_y.item():.6f}\")\n",
    "    print(f\"  Cost (final_val_cross_entropy): {new_config_c.item():.6f}\")\n",
    "    print(f\"  Current best observed: {y.min().item():.6f}\")\n",
    "    print()"
   ]
  },
  {
   "cell_type": "code",
   "execution_count": 16,
   "metadata": {},
   "outputs": [
    {
     "name": "stdout",
     "output_type": "stream",
     "text": [
      "  Initial config_id: 1542\n",
      "Iteration 1:\n",
      "  Selected config_id: 1\n",
      "  Acquisition (GI): -3.3481\n",
      "  Objective (final_val_cross_entropy): 0.6931\n",
      "  Cost (final_val_cross_entropy): 876.6520\n",
      "  Current best observed: 0.6422\n",
      "\n"
     ]
    },
    {
     "name": "stderr",
     "output_type": "stream",
     "text": [
      "/Users/qianxie/Desktop/Curriculum/Graduate/Research/PandoraAutoML/automl_env/lib/python3.9/site-packages/botorch/models/transforms/outcome.py:304: UserWarning: std(): degrees of freedom is <= 0. Correction should be strictly less than the reduction factor (input numel divided by output numel). (Triggered internally at /Users/runner/work/pytorch/pytorch/pytorch/aten/src/ATen/native/ReduceOps.cpp:1831.)\n",
      "  stdvs = Y.std(dim=-2, keepdim=True)\n",
      "/Users/qianxie/Desktop/Curriculum/Graduate/Research/PandoraAutoML/automl_env/lib/python3.9/site-packages/botorch/models/utils/assorted.py:194: UserWarning: std(): degrees of freedom is <= 0. Correction should be strictly less than the reduction factor (input numel divided by output numel). (Triggered internally at /Users/runner/work/pytorch/pytorch/pytorch/aten/src/ATen/native/ReduceOps.cpp:1831.)\n",
      "  Ymean, Ystd = torch.mean(Y, dim=-2), torch.std(Y, dim=-2)\n"
     ]
    },
    {
     "name": "stdout",
     "output_type": "stream",
     "text": [
      "Iteration 2:\n",
      "  Selected config_id: 1761\n",
      "  Acquisition (GI): 0.6360\n",
      "  Objective (final_val_cross_entropy): 0.6420\n",
      "  Cost (final_val_cross_entropy): 251.3889\n",
      "  Current best observed: 0.6420\n",
      "\n",
      "Iteration 3:\n",
      "  Selected config_id: 504\n",
      "  Acquisition (GI): 0.6294\n",
      "  Objective (final_val_cross_entropy): 0.6455\n",
      "  Cost (final_val_cross_entropy): 199.6019\n",
      "  Current best observed: 0.6420\n",
      "\n"
     ]
    }
   ],
   "source": [
    "lmbda = 0.00001\n",
    "n_iter = 3\n",
    "\n",
    "torch.manual_seed(42)\n",
    "init_config_id = torch.randint(low=0, high=2000, size=(1,)).item()\n",
    "print(f\"  Initial config_id: {init_config_id}\")\n",
    "config_id_history = [init_config_id]\n",
    "x = all_x[init_config_id].unsqueeze(0)\n",
    "y = all_y[init_config_id].unsqueeze(0)\n",
    "c = all_c[init_config_id].unsqueeze(0)\n",
    "acq_history = []\n",
    "\n",
    "for iteration in range(n_iter):\n",
    "    # 1. Fit a GP model on the current data.\n",
    "    model = fit_gp_model(X=x, objective_X=y, cost_X=c, unknown_cost=True, output_standardize=True)\n",
    "    \n",
    "    # 3. Define the acquisition function.\n",
    "    PBGI = GittinsIndex(model=model, maximize=maximize, lmbda=lmbda, unknown_cost=True)\n",
    "    \n",
    "    # 4. Evaluate the acquisition function on all candidate x's.\n",
    "    # The unsqueeze operations add extra dimensions if required by your model.\n",
    "    acq = PBGI.forward(all_x.unsqueeze(1))\n",
    "    \n",
    "    # 5. Select the candidate with the lowest acquisition value.\n",
    "    new_config_id = torch.argmin(acq)\n",
    "    new_config_x = all_x[new_config_id]\n",
    "    new_config_GI = torch.min(acq)\n",
    "    \n",
    "    # 6. Query the objective for the new configuration.\n",
    "    new_config_y = all_y[new_config_id]\n",
    "    new_config_c = all_c[new_config_id]\n",
    "    \n",
    "    # 7. Append the new data to our training set.\n",
    "    x = torch.cat([x, new_config_x.unsqueeze(0)], dim=0)\n",
    "    y = torch.cat([y, new_config_y.unsqueeze(0)], dim=0)\n",
    "    c = torch.cat([c, new_config_c.unsqueeze(0)], dim=0)\n",
    "    config_id_history.append(new_config_id.item())\n",
    "    acq_history.append(new_config_GI.item())\n",
    "    \n",
    "    print(f\"Iteration {iteration + 1}:\")\n",
    "    print(f\"  Selected config_id: {new_config_id}\")\n",
    "    print(f\"  Acquisition (GI): {new_config_GI.item():.4f}\")\n",
    "    print(f\"  Objective (final_val_cross_entropy): {new_config_y.item():.4f}\")\n",
    "    print(f\"  Cost (final_val_cross_entropy): {new_config_c.item():.4f}\")\n",
    "    print(f\"  Current best observed: {y.min().item():.4f}\")\n",
    "    print()"
   ]
  },
  {
   "cell_type": "code",
   "execution_count": null,
   "metadata": {},
   "outputs": [
    {
     "name": "stdout",
     "output_type": "stream",
     "text": [
      "  Initial config_id: 1542\n",
      "Iteration 1:\n",
      "  Selected config_id: 1\n",
      "  Acquisition (GI): -3.3481\n",
      "  Stopping acquisition (LogEIC): -3.8182\n",
      "  Objective (final_val_cross_entropy): 0.6931\n",
      "  Cost (final_val_cross_entropy): 876.6520\n",
      "  Current best observed: 0.6422\n",
      "\n"
     ]
    },
    {
     "name": "stderr",
     "output_type": "stream",
     "text": [
      "/Users/qianxie/Desktop/Curriculum/Graduate/Research/PandoraAutoML/automl_env/lib/python3.9/site-packages/botorch/models/transforms/outcome.py:304: UserWarning: std(): degrees of freedom is <= 0. Correction should be strictly less than the reduction factor (input numel divided by output numel). (Triggered internally at /Users/runner/work/pytorch/pytorch/pytorch/aten/src/ATen/native/ReduceOps.cpp:1831.)\n",
      "  stdvs = Y.std(dim=-2, keepdim=True)\n",
      "/Users/qianxie/Desktop/Curriculum/Graduate/Research/PandoraAutoML/automl_env/lib/python3.9/site-packages/botorch/models/utils/assorted.py:194: UserWarning: std(): degrees of freedom is <= 0. Correction should be strictly less than the reduction factor (input numel divided by output numel). (Triggered internally at /Users/runner/work/pytorch/pytorch/pytorch/aten/src/ATen/native/ReduceOps.cpp:1831.)\n",
      "  Ymean, Ystd = torch.mean(Y, dim=-2), torch.std(Y, dim=-2)\n"
     ]
    },
    {
     "name": "stdout",
     "output_type": "stream",
     "text": [
      "Iteration 2:\n",
      "  Selected config_id: 1761\n",
      "  Acquisition (GI): 0.6360\n",
      "  Stopping acquisition (LogEIC): -9.1689\n",
      "  Objective (final_val_cross_entropy): 0.6420\n",
      "  Cost (final_val_cross_entropy): 251.3889\n",
      "  Current best observed: 0.6420\n",
      "\n",
      "Iteration 3:\n",
      "  Selected config_id: 504\n",
      "  Acquisition (GI): 0.6294\n",
      "  Stopping acquisition (LogEIC): -10.1267\n",
      "  Objective (final_val_cross_entropy): 0.6455\n",
      "  Cost (final_val_cross_entropy): 199.6019\n",
      "  Current best observed: 0.6420\n",
      "\n"
     ]
    }
   ],
   "source": [
    "lmbda = 0.00001\n",
    "n_iter = 3\n",
    "maximize = False\n",
    "\n",
    "torch.manual_seed(42)\n",
    "init_config_id = torch.randint(low=0, high=2000, size=(1,)).item()\n",
    "print(f\"  Initial config_id: {init_config_id}\")\n",
    "config_id_history = [init_config_id]\n",
    "x = all_x[init_config_id].unsqueeze(0)\n",
    "y = all_y[init_config_id].unsqueeze(0)\n",
    "c = all_c[init_config_id].unsqueeze(0)\n",
    "acq_history = []\n",
    "stp_history = []\n",
    "\n",
    "for iteration in range(n_iter):\n",
    "    # 1. Fit a GP model on the current data.\n",
    "    model = fit_gp_model(X=x, objective_X=y, cost_X=c, unknown_cost=True, output_standardize=True)\n",
    "    \n",
    "    # 2. Determine the best observed objective value.\n",
    "    best_f = y.min()\n",
    "    \n",
    "    # 3. Define the acquisition function.\n",
    "    PBGI = GittinsIndex(model=model, maximize=maximize, lmbda=lmbda, unknown_cost=True)\n",
    "    LogEIC = LogExpectedImprovementWithCost(model=model, best_f=best_f, maximize=maximize, unknown_cost=True)\n",
    "    \n",
    "    # 4. Evaluate the acquisition function on all candidate x's.\n",
    "    # The unsqueeze operations add extra dimensions if required by your model.\n",
    "    acq = PBGI.forward(all_x.unsqueeze(1))\n",
    "    stp = LogEIC.forward(all_x.unsqueeze(1))\n",
    "    \n",
    "    # 5. Select the candidate with the lowest acquisition value.\n",
    "    new_config_id = torch.argmin(acq)\n",
    "    new_config_x = all_x[new_config_id]\n",
    "    new_config_GI = torch.min(acq)\n",
    "\n",
    "    max_config_logEIC = torch.max(stp)\n",
    "    \n",
    "    # 6. Query the objective for the new configuration.\n",
    "    new_config_y = all_y[new_config_id]\n",
    "    new_config_c = all_c[new_config_id]\n",
    "    \n",
    "    # 7. Append the new data to our training set.\n",
    "    x = torch.cat([x, new_config_x.unsqueeze(0)], dim=0)\n",
    "    y = torch.cat([y, new_config_y.unsqueeze(0)], dim=0)\n",
    "    c = torch.cat([c, new_config_c.unsqueeze(0)], dim=0)\n",
    "    config_id_history.append(new_config_id.item())\n",
    "    acq_history.append(new_config_GI.item())\n",
    "    stp_history.append(max_config_logEIC.item())\n",
    "    \n",
    "    print(f\"Iteration {iteration + 1}:\")\n",
    "    print(f\"  Selected config_id: {new_config_id}\")\n",
    "    print(f\"  Acquisition (GI): {new_config_GI.item():.4f}\")\n",
    "    print(f\"  Stopping acquisition (LogEIC): {max_config_logEIC.item():.4f}\")\n",
    "    print(f\"  Objective (final_val_cross_entropy): {new_config_y.item():.4f}\")\n",
    "    print(f\"  Cost (final_val_cross_entropy): {new_config_c.item():.4f}\")\n",
    "    print(f\"  Current best observed: {y.min().item():.4f}\")\n",
    "    print()"
   ]
  },
  {
   "cell_type": "code",
   "execution_count": null,
   "metadata": {},
   "outputs": [
    {
     "name": "stdout",
     "output_type": "stream",
     "text": [
      "  Initial config_id: 1542\n"
     ]
    },
    {
     "name": "stderr",
     "output_type": "stream",
     "text": [
      "/Users/qianxie/Desktop/Curriculum/Graduate/Research/PandoraAutoML/automl_env/lib/python3.9/site-packages/botorch/models/transforms/outcome.py:304: UserWarning: std(): degrees of freedom is <= 0. Correction should be strictly less than the reduction factor (input numel divided by output numel). (Triggered internally at /Users/runner/work/pytorch/pytorch/pytorch/aten/src/ATen/native/ReduceOps.cpp:1831.)\n",
      "  stdvs = Y.std(dim=-2, keepdim=True)\n",
      "/Users/qianxie/Desktop/Curriculum/Graduate/Research/PandoraAutoML/automl_env/lib/python3.9/site-packages/botorch/models/utils/assorted.py:194: UserWarning: std(): degrees of freedom is <= 0. Correction should be strictly less than the reduction factor (input numel divided by output numel). (Triggered internally at /Users/runner/work/pytorch/pytorch/pytorch/aten/src/ATen/native/ReduceOps.cpp:1831.)\n",
      "  Ymean, Ystd = torch.mean(Y, dim=-2), torch.std(Y, dim=-2)\n",
      "/Users/qianxie/Desktop/Curriculum/Graduate/Research/PandoraAutoML/automl_env/lib/python3.9/site-packages/botorch/models/transforms/outcome.py:304: UserWarning: std(): degrees of freedom is <= 0. Correction should be strictly less than the reduction factor (input numel divided by output numel). (Triggered internally at /Users/runner/work/pytorch/pytorch/pytorch/aten/src/ATen/native/ReduceOps.cpp:1831.)\n",
      "  stdvs = Y.std(dim=-2, keepdim=True)\n",
      "/Users/qianxie/Desktop/Curriculum/Graduate/Research/PandoraAutoML/automl_env/lib/python3.9/site-packages/botorch/models/utils/assorted.py:194: UserWarning: std(): degrees of freedom is <= 0. Correction should be strictly less than the reduction factor (input numel divided by output numel). (Triggered internally at /Users/runner/work/pytorch/pytorch/pytorch/aten/src/ATen/native/ReduceOps.cpp:1831.)\n",
      "  Ymean, Ystd = torch.mean(Y, dim=-2), torch.std(Y, dim=-2)\n",
      "/Users/qianxie/Desktop/Curriculum/Graduate/Research/PandoraAutoML/automl_env/lib/python3.9/site-packages/botorch/models/utils/assorted.py:202: InputDataWarning: Input data is not standardized (mean = tensor([0., 0.]), std = tensor([0., 0.])). Please consider scaling the input to zero mean and unit variance.\n",
      "  warnings.warn(msg, InputDataWarning)\n",
      "/Users/qianxie/Desktop/Curriculum/Graduate/Research/PandoraAutoML/automl_env/lib/python3.9/site-packages/botorch/models/utils/assorted.py:202: InputDataWarning: Input data is not standardized (mean = tensor([0.]), std = tensor([0.])). Please consider scaling the input to zero mean and unit variance.\n",
      "  warnings.warn(msg, InputDataWarning)\n",
      "/Users/qianxie/Desktop/Curriculum/Graduate/Research/PandoraAutoML/automl_env/lib/python3.9/site-packages/gpytorch/distributions/multivariate_normal.py:319: NumericalWarning: Negative variance values detected. This is likely due to numerical instabilities. Rounding negative variances up to 1e-10.\n",
      "  warnings.warn(\n"
     ]
    }
   ],
   "source": [
    "n_iter = 3\n",
    "maximize = False\n",
    "acq = \"PBGI_D\"\n",
    "\n",
    "torch.manual_seed(42)\n",
    "init_config_id = torch.randint(low=0, high=2000, size=(1,)).item()\n",
    "print(f\"  Initial config_id: {init_config_id}\")\n",
    "config_id_history = [init_config_id]\n",
    "x = all_x[init_config_id].unsqueeze(0)\n",
    "y = all_y[init_config_id].unsqueeze(0)\n",
    "c = all_c[init_config_id].unsqueeze(0)\n",
    "PBGI_1e_5_acq_history = [np.nan]\n",
    "PBGI_5e_6_acq_history = [np.nan]\n",
    "PBGI_1e_6_acq_history = [np.nan]\n",
    "LogEIC_acq_history = [np.nan]\n",
    "regret_upper_bound_history = [np.nan]\n",
    "acq_history = [np.nan]\n",
    "current_best_history = []\n",
    "cost_history = [0]\n",
    "if acq == \"PBGI_D\":\n",
    "    cur_lmbda = 0.001\n",
    "    lmbda_history = [cur_lmbda]\n",
    "\n",
    "for iteration in range(n_iter):\n",
    "    # 1. Fit a GP model on the current data.\n",
    "    model = fit_gp_model(X=x, objective_X=y, cost_X=c, unknown_cost=True, output_standardize=True)\n",
    "    \n",
    "    # 2. Determine the best observed objective value.\n",
    "    best_f = y.min()\n",
    "    \n",
    "    # 3. Define the acquisition function.\n",
    "    PBGI_1e_5 = GittinsIndex(model=model, maximize=maximize, lmbda=1e-5, unknown_cost=True)\n",
    "    PBGI_5e_6 = GittinsIndex(model=model, maximize=maximize, lmbda=5e-6, unknown_cost=True)\n",
    "    PBGI_1e_6 = GittinsIndex(model=model, maximize=maximize, lmbda=1e-6, unknown_cost=True)\n",
    "    LogEIC = LogExpectedImprovementWithCost(model=model, best_f=best_f, maximize=maximize, unknown_cost=True)\n",
    "    single_outcome_model = fit_gp_model(X=x, objective_X=y, output_standardize=True)\n",
    "    UCB = UpperConfidenceBound(model=single_outcome_model, maximize=maximize, beta=2 * np.log(dim * ((iteration + 1) ** 2) * (math.pi ** 2) / (6 * 0.1)) / 5)\n",
    "    LCB = LowerConfidenceBound(model=single_outcome_model, maximize=maximize, beta=2 * np.log(dim * ((iteration + 1) ** 2) * (math.pi ** 2) / (6 * 0.1)) / 5)\n",
    "\n",
    "    # 4. Evaluate the acquisition function on all candidate x's.\n",
    "    # The unsqueeze operations add extra dimensions if required by your model.\n",
    "    PBGI_1e_5_acq = PBGI_1e_5.forward(all_x.unsqueeze(1))\n",
    "    PBGI_5e_6_acq = PBGI_5e_6.forward(all_x.unsqueeze(1))\n",
    "    PBGI_1e_6_acq = PBGI_1e_6.forward(all_x.unsqueeze(1))\n",
    "    LogEIC_acq = LogEIC.forward(all_x.unsqueeze(1))\n",
    "    UCB_acq = UCB.forward(all_x.unsqueeze(1))\n",
    "    LCB_acq = LCB.forward(all_x.unsqueeze(1))\n",
    "\n",
    "    # 5. Record information for stopping.\n",
    "    PBGI_1e_5_acq_history.append(torch.min(PBGI_1e_5_acq).item())\n",
    "    PBGI_5e_6_acq_history.append(torch.min(PBGI_5e_6_acq).item())\n",
    "    PBGI_1e_6_acq_history.append(torch.min(PBGI_1e_6_acq).item())\n",
    "    LogEIC_acq_history.append(torch.max(LogEIC_acq).item())\n",
    "    regret_upper_bound_history.append(torch.min(UCB_acq).item() - torch.min(LCB_acq).item())\n",
    "\n",
    "    # 6. Select the candidate with the lowest acquisition value.\n",
    "    if acq == \"PBGI(1e-5)\":\n",
    "        new_config_id = torch.argmin(PBGI_1e_5_acq)\n",
    "        new_config_acq = torch.min(PBGI_1e_5_acq)\n",
    "    if acq == \"PBGI(5e-6)\":\n",
    "        new_config_id = torch.argmin(PBGI_5e_6_acq)\n",
    "        new_config_acq = torch.min(PBGI_5e_6_acq)\n",
    "    if acq == \"PBGI(1e-6)\":\n",
    "        new_config_id = torch.argmin(PBGI_1e_6_acq)\n",
    "        new_config_acq = torch.min(PBGI_1e_6_acq)\n",
    "    if acq == \"LogEIC\":\n",
    "        new_config_id = torch.argmax(LogEIC_acq)\n",
    "        new_config_acq = torch.max(LogEIC_acq)\n",
    "    if acq == \"LCB\":\n",
    "        new_config_id = torch.argmin(LCB_acq)\n",
    "        new_config_acq = torch.min(LCB_acq)\n",
    "    if acq == \"PBGI_D\":\n",
    "        PBGI_D = GittinsIndex(model=model, maximize=maximize, lmbda=cur_lmbda, unknown_cost=True)\n",
    "        PBGI_D_acq = PBGI_D.forward(all_x.unsqueeze(1))\n",
    "        new_config_id = torch.argmin(PBGI_D_acq)\n",
    "        new_config_acq = torch.min(PBGI_D_acq)\n",
    "        if new_config_acq > best_f:\n",
    "            cur_lmbda = cur_lmbda / 2\n",
    "        lmbda_history.append(cur_lmbda)\n",
    "\n",
    "    new_config_x = all_x[new_config_id]\n",
    "    \n",
    "    # 7. Query the objective for the new configuration.\n",
    "    new_config_y = all_y[new_config_id]\n",
    "    new_config_c = all_c[new_config_id]\n",
    "    \n",
    "    # 8. Append the new data to our training set.\n",
    "    x = torch.cat([x, new_config_x.unsqueeze(0)], dim=0)\n",
    "    y = torch.cat([y, new_config_y.unsqueeze(0)], dim=0)\n",
    "    c = torch.cat([c, new_config_c.unsqueeze(0)], dim=0)\n",
    "    config_id_history.append(new_config_id.item())\n",
    "    acq_history.append(new_config_acq.item())\n",
    "    current_best_history.append(best_f.item())\n",
    "    cost_history.append(new_config_c.item())\n",
    "\n",
    "current_best_history.append(y.min().item())"
   ]
  },
  {
   "cell_type": "code",
   "execution_count": 33,
   "metadata": {},
   "outputs": [
    {
     "data": {
      "text/plain": [
       "([nan, -3.3481389956653276, -3.3481203721063633, 0.6439566720863261],\n",
       " [nan, -3.779742667286553, -3.779720071832438, 0.6429633306136342],\n",
       " [nan, -4.685279849694181, -4.685249169382612, 0.641642423499978],\n",
       " [nan, -3.818206536171723, -3.8182389923714624, -13.25667469120075],\n",
       " [nan, 2.5294199968377984, 2.8705814603731907, 0.0002649271222241456],\n",
       " [nan, 0.8177866418706006, -0.06128220687253405, 0.7299982825504507],\n",
       " [0.6422176830029588,\n",
       "  0.6422176830029588,\n",
       "  0.6419958293894987,\n",
       "  0.6419958293894987],\n",
       " [0, 175.56018090248108, 251.38893842697144, 175.56018090248108],\n",
       " [0.001, 0.0005, 0.0005, 0.00025])"
      ]
     },
     "execution_count": 33,
     "metadata": {},
     "output_type": "execute_result"
    }
   ],
   "source": [
    "PBGI_1e_5_acq_history, PBGI_5e_6_acq_history, PBGI_1e_6_acq_history, LogEIC_acq_history, regret_upper_bound_history, acq_history, current_best_history, cost_history, lmbda_history"
   ]
  },
  {
   "cell_type": "code",
   "execution_count": 34,
   "metadata": {},
   "outputs": [
    {
     "data": {
      "text/plain": [
       "array([  0.        , 175.5601809 , 426.94911933, 602.50930023])"
      ]
     },
     "execution_count": 34,
     "metadata": {},
     "output_type": "execute_result"
    }
   ],
   "source": [
    "np.cumsum(cost_history)"
   ]
  },
  {
   "cell_type": "code",
   "execution_count": 35,
   "metadata": {},
   "outputs": [
    {
     "name": "stdout",
     "output_type": "stream",
     "text": [
      "0.0 0.6422176830029588 nan\n",
      "175.56018090248108 0.6422176830029588 0.8177866418706006\n",
      "426.9491193294525 0.6419958293894987 -0.06128220687253405\n",
      "602.5093002319336 0.6419958293894987 0.7299982825504507\n"
     ]
    }
   ],
   "source": [
    "for cost, best, acq in zip(np.cumsum(cost_history), current_best_history, acq_history):\n",
    "    print(cost, best, acq)"
   ]
  }
 ],
 "metadata": {
  "kernelspec": {
   "display_name": "automl_env",
   "language": "python",
   "name": "python3"
  },
  "language_info": {
   "codemirror_mode": {
    "name": "ipython",
    "version": 3
   },
   "file_extension": ".py",
   "mimetype": "text/x-python",
   "name": "python",
   "nbconvert_exporter": "python",
   "pygments_lexer": "ipython3",
   "version": "3.9.21"
  }
 },
 "nbformat": 4,
 "nbformat_minor": 2
}
